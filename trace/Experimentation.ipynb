{
 "cells": [
  {
   "cell_type": "code",
   "execution_count": 5,
   "metadata": {
    "collapsed": false
   },
   "outputs": [
    {
     "name": "stdout",
     "output_type": "stream",
     "text": [
      "The autoreload extension is already loaded. To reload it, use:\n",
      "  %reload_ext autoreload\n"
     ]
    }
   ],
   "source": [
    "%load_ext autoreload\n",
    "%autoreload 2\n",
    "\n",
    "import tensorflow as tf\n",
    "import models\n",
    "import ensemble as ens\n",
    "import numpy as np\n",
    "import h5py\n",
    "import augmentation as au"
   ]
  },
  {
   "cell_type": "code",
   "execution_count": 5,
   "metadata": {
    "collapsed": false
   },
   "outputs": [
    {
     "name": "stdout",
     "output_type": "stream",
     "text": [
      "(3, 3, 512, 512)\n",
      "(3, 512, 512, 2)\n"
     ]
    }
   ],
   "source": [
    "with h5py.File('/home/trace-local/trace/isbi/validation-affinities.h5', 'r') as label_file:\n",
    "    labels = label_file['main']\n",
    "    print(labels.shape)\n",
    "    reshaped_labels = np.einsum('dzyx->zyxd', labels[0:2])\n",
    "    print(reshaped_labels.shape)"
   ]
  },
  {
   "cell_type": "code",
   "execution_count": null,
   "metadata": {
    "collapsed": true
   },
   "outputs": [],
   "source": [
    "models.ConvNet"
   ]
  },
  {
   "cell_type": "code",
   "execution_count": 2,
   "metadata": {
    "collapsed": false
   },
   "outputs": [
    {
     "name": "stdout",
     "output_type": "stream",
     "text": [
      "Layer 1,\ttype: conv2d,\tfilter: [4, 4],\tFOV: 4\n",
      "Layer 2,\ttype: pool,\tfilter: [2, 2],\tFOV: 5\n",
      "Layer 3,\ttype: conv2d,\tfilter: [5, 5],\tFOV: 13\n",
      "Layer 4,\ttype: pool,\tfilter: [2, 2],\tFOV: 15\n",
      "Layer 5,\ttype: conv2d,\tfilter: [4, 4],\tFOV: 27\n",
      "Layer 6,\ttype: pool,\tfilter: [2, 2],\tFOV: 31\n",
      "Layer 7,\ttype: conv2d,\tfilter: [4, 4],\tFOV: 55\n",
      "Layer 8,\ttype: pool,\tfilter: [2, 2],\tFOV: 63\n",
      "Layer 9,\ttype: conv2d,\tfilter: [3, 3],\tFOV: 95\n",
      "Layer 10,\ttype: conv2d,\tfilter: [1, 1],\tFOV: 95\n"
     ]
    },
    {
     "data": {
      "text/plain": [
       "<models.conv_net.ConvNet instance at 0x7fdf246473b0>"
      ]
     },
     "execution_count": 2,
     "metadata": {},
     "output_type": "execute_result"
    }
   ],
   "source": [
    "cnet.ConvNet(cnet.DEFAULT_PARAMS)"
   ]
  },
  {
   "cell_type": "code",
   "execution_count": 7,
   "metadata": {
    "collapsed": false
   },
   "outputs": [
    {
     "data": {
      "text/plain": [
       "{'fov': 95,\n",
       " 'input': 195,\n",
       " 'layers': [{'activation_fn': <function tensorflow.python.ops.gen_nn_ops.relu>,\n",
       "   'filter_size': 4,\n",
       "   'n_feature_maps': 48,\n",
       "   'type': 'conv2d'},\n",
       "  {'filter_size': 2, 'type': 'pool'},\n",
       "  {'activation_fn': <function tensorflow.python.ops.gen_nn_ops.relu>,\n",
       "   'filter_size': 5,\n",
       "   'n_feature_maps': 68,\n",
       "   'type': 'conv2d'},\n",
       "  {'filter_size': 2, 'type': 'pool'},\n",
       "  {'activation_fn': <function tensorflow.python.ops.gen_nn_ops.relu>,\n",
       "   'filter_size': 4,\n",
       "   'n_feature_maps': 100,\n",
       "   'type': 'conv2d'},\n",
       "  {'filter_size': 2, 'type': 'pool'},\n",
       "  {'activation_fn': <function tensorflow.python.ops.gen_nn_ops.relu>,\n",
       "   'filter_size': 4,\n",
       "   'n_feature_maps': 128,\n",
       "   'type': 'conv2d'},\n",
       "  {'filter_size': 2, 'type': 'pool'},\n",
       "  {'activation_fn': <function tensorflow.python.ops.gen_nn_ops.relu>,\n",
       "   'filter_size': 3,\n",
       "   'n_feature_maps': 200,\n",
       "   'type': 'conv2d'},\n",
       "  {'activation_fn': <function models.conv_net.<lambda>>,\n",
       "   'filter_size': 1,\n",
       "   'n_feature_maps': 2,\n",
       "   'type': 'conv2d'}],\n",
       " 'learning_rate': 0.0001,\n",
       " 'model_name': 'N4_widened',\n",
       " 'output': 101}"
      ]
     },
     "execution_count": 7,
     "metadata": {},
     "output_type": "execute_result"
    }
   ],
   "source": [
    "models.DEFAULT_PARAMS"
   ]
  },
  {
   "cell_type": "code",
   "execution_count": 20,
   "metadata": {
    "collapsed": true
   },
   "outputs": [],
   "source": [
    "DEEPER_PARAMS = {\n",
    "    'model_name': 'N4_widened',\n",
    "    'fov': 107,  # Sanity check\n",
    "    'input': 195,\n",
    "    'output': 101,\n",
    "    'learning_rate': 0.0001,\n",
    "    'layers': [\n",
    "        {'type': 'conv2d', 'filter_size': 4, 'n_feature_maps': 48, 'activation_fn': tf.nn.relu},\n",
    "        {'type': 'pool', 'filter_size': 2},\n",
    "        {'type': 'conv2d', 'filter_size': 5, 'n_feature_maps': 68, 'activation_fn': tf.nn.relu},\n",
    "        {'type': 'pool', 'filter_size': 2},\n",
    "        {'type': 'conv2d', 'filter_size': 4, 'n_feature_maps': 100, 'activation_fn': tf.nn.relu},\n",
    "        {'type': 'conv2d', 'filter_size': 4, 'n_feature_maps': 200, 'activation_fn': tf.nn.relu},\n",
    "        {'type': 'pool', 'filter_size': 2},\n",
    "        {'type': 'conv2d', 'filter_size': 4, 'n_feature_maps': 96, 'activation_fn': tf.nn.relu},\n",
    "        {'type': 'pool', 'filter_size': 2},\n",
    "        {'type': 'conv2d', 'filter_size': 3, 'n_feature_maps': 200, 'activation_fn': tf.nn.relu},\n",
    "        {'type': 'conv2d', 'filter_size': 1, 'n_feature_maps': 2, 'activation_fn': lambda x: x},\n",
    "    ]\n",
    "}"
   ]
  },
  {
   "cell_type": "code",
   "execution_count": 23,
   "metadata": {
    "collapsed": true
   },
   "outputs": [],
   "source": [
    "VD2D = {\n",
    "    'model_name': 'VD2D',\n",
    "    'fov': 109,  # Sanity check\n",
    "    'input': 209,\n",
    "    'output': 101,\n",
    "    'learning_rate': 0.001,\n",
    "    'layers': [\n",
    "        {'type': 'conv2d', 'filter_size': 3, 'n_feature_maps': 24, 'activation_fn': tf.nn.relu},\n",
    "        {'type': 'conv2d', 'filter_size': 3, 'n_feature_maps': 24, 'activation_fn': tf.nn.relu},\n",
    "        {'type': 'conv2d', 'filter_size': 2, 'n_feature_maps': 24, 'activation_fn': tf.nn.tanh},\n",
    "        {'type': 'pool', 'filter_size': 2},\n",
    "        {'type': 'conv2d', 'filter_size': 3, 'n_feature_maps': 36, 'activation_fn': tf.nn.relu},\n",
    "        {'type': 'conv2d', 'filter_size': 3, 'n_feature_maps': 36, 'activation_fn': tf.nn.tanh},\n",
    "        {'type': 'pool', 'filter_size': 2},\n",
    "        {'type': 'conv2d', 'filter_size': 3, 'n_feature_maps': 48, 'activation_fn': tf.nn.relu},\n",
    "        {'type': 'conv2d', 'filter_size': 3, 'n_feature_maps': 48, 'activation_fn': tf.nn.tanh},\n",
    "        {'type': 'pool', 'filter_size': 2},\n",
    "        {'type': 'conv2d', 'filter_size': 3, 'n_feature_maps': 60, 'activation_fn': tf.nn.relu},\n",
    "        {'type': 'conv2d', 'filter_size': 3, 'n_feature_maps': 60, 'activation_fn': tf.nn.tanh},\n",
    "        {'type': 'pool', 'filter_size': 2},\n",
    "        {'type': 'conv2d', 'filter_size': 3, 'n_feature_maps': 200, 'activation_fn': tf.nn.relu},\n",
    "        {'type': 'conv2d', 'filter_size': 1, 'n_feature_maps': 2, 'activation_fn': lambda x: x},\n",
    "    ]\n",
    "    \n",
    "}"
   ]
  },
  {
   "cell_type": "code",
   "execution_count": 24,
   "metadata": {
    "collapsed": false,
    "scrolled": false
   },
   "outputs": [
    {
     "name": "stdout",
     "output_type": "stream",
     "text": [
      "Layer 1,\ttype: conv2d,\tfilter: [3, 3],\tFOV: 3\n",
      "Layer 2,\ttype: conv2d,\tfilter: [3, 3],\tFOV: 5\n",
      "Layer 3,\ttype: conv2d,\tfilter: [2, 2],\tFOV: 6\n",
      "Layer 4,\ttype: pool,\tfilter: [2, 2],\tFOV: 7\n",
      "Layer 5,\ttype: conv2d,\tfilter: [3, 3],\tFOV: 11\n",
      "Layer 6,\ttype: conv2d,\tfilter: [3, 3],\tFOV: 15\n",
      "Layer 7,\ttype: pool,\tfilter: [2, 2],\tFOV: 17\n",
      "Layer 8,\ttype: conv2d,\tfilter: [3, 3],\tFOV: 25\n",
      "Layer 9,\ttype: conv2d,\tfilter: [3, 3],\tFOV: 33\n",
      "Layer 10,\ttype: pool,\tfilter: [2, 2],\tFOV: 37\n",
      "Layer 11,\ttype: conv2d,\tfilter: [3, 3],\tFOV: 53\n",
      "Layer 12,\ttype: conv2d,\tfilter: [3, 3],\tFOV: 69\n",
      "Layer 13,\ttype: pool,\tfilter: [2, 2],\tFOV: 77\n",
      "Layer 14,\ttype: conv2d,\tfilter: [3, 3],\tFOV: 109\n",
      "Layer 15,\ttype: conv2d,\tfilter: [1, 1],\tFOV: 109\n"
     ]
    },
    {
     "ename": "AssertionError",
     "evalue": "",
     "output_type": "error",
     "traceback": [
      "\u001b[0;31m---------------------------------------------------------------------------\u001b[0m",
      "\u001b[0;31mAssertionError\u001b[0m                            Traceback (most recent call last)",
      "\u001b[0;32m<ipython-input-24-73330e7c64b0>\u001b[0m in \u001b[0;36m<module>\u001b[0;34m()\u001b[0m\n\u001b[0;32m----> 1\u001b[0;31m \u001b[0mcnet\u001b[0m\u001b[0;34m.\u001b[0m\u001b[0mConvNet\u001b[0m\u001b[0;34m(\u001b[0m\u001b[0mVD2D\u001b[0m\u001b[0;34m)\u001b[0m\u001b[0;34m\u001b[0m\u001b[0m\n\u001b[0m",
      "\u001b[0;32m/home/trace-local/trace/models/conv_net.pyc\u001b[0m in \u001b[0;36m__init__\u001b[0;34m(self, params)\u001b[0m\n\u001b[1;32m    110\u001b[0m                   (layer_num, layer['type'], filter_size, filter_size, receptive_field))\n\u001b[1;32m    111\u001b[0m \u001b[0;34m\u001b[0m\u001b[0m\n\u001b[0;32m--> 112\u001b[0;31m         \u001b[0;32massert\u001b[0m \u001b[0;34m(\u001b[0m\u001b[0mreceptive_field\u001b[0m \u001b[0;34m==\u001b[0m \u001b[0mparams\u001b[0m\u001b[0;34m[\u001b[0m\u001b[0;34m'fov'\u001b[0m\u001b[0;34m]\u001b[0m\u001b[0;34m)\u001b[0m\u001b[0;34m\u001b[0m\u001b[0m\n\u001b[0m\u001b[1;32m    113\u001b[0m \u001b[0;34m\u001b[0m\u001b[0m\n\u001b[1;32m    114\u001b[0m         \u001b[0mself\u001b[0m\u001b[0;34m.\u001b[0m\u001b[0mfov\u001b[0m \u001b[0;34m=\u001b[0m \u001b[0mreceptive_field\u001b[0m\u001b[0;34m\u001b[0m\u001b[0m\n",
      "\u001b[0;31mAssertionError\u001b[0m: "
     ]
    }
   ],
   "source": [
    "cnet.ConvNet(VD2D)"
   ]
  },
  {
   "cell_type": "code",
   "execution_count": 54,
   "metadata": {
    "collapsed": true
   },
   "outputs": [],
   "source": [
    "averager = ens.ModelAverager('.')"
   ]
  },
  {
   "cell_type": "code",
   "execution_count": 55,
   "metadata": {
    "collapsed": true
   },
   "outputs": [],
   "source": [
    "m1 = np.full((30, 250, 250, 1), 0, dtype=np.float32)\n",
    "m2 = np.full((30, 250, 250, 1), 4, dtype=np.float32)\n",
    "m3 = np.full((30, 250, 250, 1), 5, dtype=np.float32)"
   ]
  },
  {
   "cell_type": "code",
   "execution_count": 56,
   "metadata": {
    "collapsed": false
   },
   "outputs": [],
   "source": [
    "res = averager.predict(np.asarray([m1, m2, m3]))"
   ]
  },
  {
   "cell_type": "code",
   "execution_count": 57,
   "metadata": {
    "collapsed": false
   },
   "outputs": [
    {
     "data": {
      "text/plain": [
       "(30, 250, 250, 1)"
      ]
     },
     "execution_count": 57,
     "metadata": {},
     "output_type": "execute_result"
    }
   ],
   "source": [
    "res.shape"
   ]
  },
  {
   "cell_type": "code",
   "execution_count": 61,
   "metadata": {
    "collapsed": false
   },
   "outputs": [
    {
     "data": {
      "text/plain": [
       "(30, 260, 260, 1)"
      ]
     },
     "execution_count": 61,
     "metadata": {},
     "output_type": "execute_result"
    }
   ],
   "source": [
    "fov = 10\n",
    "r = np.pad(res, [(0, 0), (fov//2, fov//2), (fov//2, fov//2), (0, 0)], mode='reflect')\n",
    "r.shape"
   ]
  },
  {
   "cell_type": "code",
   "execution_count": 22,
   "metadata": {
    "collapsed": false
   },
   "outputs": [],
   "source": [
    "with h5py.File('isbi/train-input.h5', 'r') as input_file:\n",
    "    # Scale appropriately, and mirror\n",
    "    inpt = input_file['main'][:].astype(np.float32) / 255.0\n",
    "    mirrored_inpt = aug.mirror_across_borders(inpt, 101)\n",
    "    num_layers = mirrored_inpt.shape[0]\n",
    "    input_shape = mirrored_inpt.shape[1]"
   ]
  },
  {
   "cell_type": "code",
   "execution_count": 32,
   "metadata": {
    "collapsed": false
   },
   "outputs": [],
   "source": [
    "reshaped_input = mirrored_inpt.reshape(mirrored_inpt.shape + (1,))"
   ]
  },
  {
   "cell_type": "code",
   "execution_count": 33,
   "metadata": {
    "collapsed": false
   },
   "outputs": [
    {
     "data": {
      "text/plain": [
       "(27, 612, 612, 1)"
      ]
     },
     "execution_count": 33,
     "metadata": {},
     "output_type": "execute_result"
    }
   ],
   "source": [
    "reshaped_input.shape"
   ]
  },
  {
   "cell_type": "code",
   "execution_count": 36,
   "metadata": {
    "collapsed": false
   },
   "outputs": [
    {
     "data": {
      "text/plain": [
       "array([[[ 0.60392159,  0.60392159,  0.57647061, ...,  0.73333335,\n",
       "          0.70588237,  0.71372551],\n",
       "        [ 0.52941179,  0.56470591,  0.56862748, ...,  0.7647059 ,\n",
       "          0.69411767,  0.65490198],\n",
       "        [ 0.52549022,  0.53333336,  0.53333336, ...,  0.76862746,\n",
       "          0.6901961 ,  0.68235296],\n",
       "        ..., \n",
       "        [ 0.66274512,  0.58431375,  0.50980395, ...,  0.65490198,\n",
       "          0.59607846,  0.57254905],\n",
       "        [ 0.69803923,  0.59215689,  0.5529412 , ...,  0.61960787,\n",
       "          0.6156863 ,  0.60784316],\n",
       "        [ 0.68235296,  0.6156863 ,  0.58823532, ...,  0.62352943,\n",
       "          0.63529414,  0.627451  ]],\n",
       "\n",
       "       [[ 0.59215689,  0.61960787,  0.60392159, ...,  0.4509804 ,\n",
       "          0.48627451,  0.43529412],\n",
       "        [ 0.56862748,  0.63529414,  0.66274512, ...,  0.41176471,\n",
       "          0.43137255,  0.47450981],\n",
       "        [ 0.56078434,  0.54901963,  0.52156866, ...,  0.37254903,\n",
       "          0.41960785,  0.49411765],\n",
       "        ..., \n",
       "        [ 0.6156863 ,  0.61960787,  0.65490198, ...,  0.34117648,\n",
       "          0.36470589,  0.44313726],\n",
       "        [ 0.68627453,  0.75294119,  0.74509805, ...,  0.2       ,\n",
       "          0.24705882,  0.32941177],\n",
       "        [ 0.63137257,  0.74509805,  0.73725492, ...,  0.18431373,\n",
       "          0.21568628,  0.24313726]],\n",
       "\n",
       "       [[ 0.58039218,  0.63921571,  0.73333335, ...,  0.59215689,\n",
       "          0.52156866,  0.40000001],\n",
       "        [ 0.6156863 ,  0.68627453,  0.78431374, ...,  0.56862748,\n",
       "          0.47843137,  0.39215687],\n",
       "        [ 0.66666669,  0.70588237,  0.7647059 , ...,  0.54901963,\n",
       "          0.49411765,  0.47058824],\n",
       "        ..., \n",
       "        [ 0.74117649,  0.73725492,  0.73725492, ...,  0.21960784,\n",
       "          0.27058825,  0.24705882],\n",
       "        [ 0.67843139,  0.70588237,  0.67843139, ...,  0.22745098,\n",
       "          0.1882353 ,  0.17254902],\n",
       "        [ 0.69803923,  0.67843139,  0.65490198, ...,  0.50196081,\n",
       "          0.34117648,  0.26274511]],\n",
       "\n",
       "       ..., \n",
       "       [[ 0.36470589,  0.20784314,  0.32941177, ...,  0.85882354,\n",
       "          0.71372551,  0.59215689],\n",
       "        [ 0.24313726,  0.16470589,  0.32549021, ...,  0.85882354,\n",
       "          0.71764708,  0.45882353],\n",
       "        [ 0.16862746,  0.20784314,  0.29019609, ...,  0.71372551,\n",
       "          0.56078434,  0.39607844],\n",
       "        ..., \n",
       "        [ 0.13333334,  0.38431373,  0.43137255, ...,  0.36862746,\n",
       "          0.38039216,  0.33333334],\n",
       "        [ 0.03529412,  0.19215687,  0.33725491, ...,  0.59607846,\n",
       "          0.54509807,  0.27058825],\n",
       "        [ 0.12156863,  0.3137255 ,  0.38431373, ...,  0.67058825,\n",
       "          0.58039218,  0.24313726]],\n",
       "\n",
       "       [[ 0.79607844,  0.68235296,  0.62352943, ...,  0.34901962,\n",
       "          0.40392157,  0.58823532],\n",
       "        [ 0.82352942,  0.7647059 ,  0.66274512, ...,  0.51372552,\n",
       "          0.58039218,  0.67058825],\n",
       "        [ 0.67058825,  0.7647059 ,  0.68235296, ...,  0.49803922,\n",
       "          0.49803922,  0.54901963],\n",
       "        ..., \n",
       "        [ 0.34901962,  0.41176471,  0.58039218, ...,  0.6901961 ,\n",
       "          0.52941179,  0.42352942],\n",
       "        [ 0.28627452,  0.42745098,  0.61960787, ...,  0.28627452,\n",
       "          0.23137255,  0.25098041],\n",
       "        [ 0.18039216,  0.39215687,  0.52549022, ...,  0.16078432,\n",
       "          0.1254902 ,  0.25098041]],\n",
       "\n",
       "       [[ 0.41176471,  0.3882353 ,  0.35686275, ...,  0.73333335,\n",
       "          0.60784316,  0.59215689],\n",
       "        [ 0.15686275,  0.14901961,  0.25882354, ...,  0.78823531,\n",
       "          0.75294119,  0.74509805],\n",
       "        [ 0.11372549,  0.24313726,  0.3019608 , ...,  0.61176473,\n",
       "          0.81960785,  0.78039217],\n",
       "        ..., \n",
       "        [ 0.54509807,  0.41960785,  0.32156864, ...,  0.18039216,\n",
       "          0.28235295,  0.39607844],\n",
       "        [ 0.55686277,  0.31764707,  0.32549021, ...,  0.43921569,\n",
       "          0.38039216,  0.36078432],\n",
       "        [ 0.70588237,  0.2       ,  0.30588236, ...,  0.47058824,\n",
       "          0.40784314,  0.43137255]]], dtype=float32)"
      ]
     },
     "execution_count": 36,
     "metadata": {},
     "output_type": "execute_result"
    }
   ],
   "source": []
  },
  {
   "cell_type": "code",
   "execution_count": 1,
   "metadata": {
    "collapsed": true
   },
   "outputs": [],
   "source": [
    "%load_ext autoreload\n",
    "%autoreload 2\n",
    "\n",
    "import tensorflow as tf\n",
    "import models"
   ]
  },
  {
   "cell_type": "code",
   "execution_count": 2,
   "metadata": {
    "collapsed": true
   },
   "outputs": [],
   "source": [
    "bound = models.ConvNet(models.VD2D_BOUNDARIES)"
   ]
  },
  {
   "cell_type": "code",
   "execution_count": 3,
   "metadata": {
    "collapsed": true
   },
   "outputs": [],
   "source": [
    "aff = models.ConvNet(models.VD2D)"
   ]
  },
  {
   "cell_type": "code",
   "execution_count": 5,
   "metadata": {
    "collapsed": false
   },
   "outputs": [
    {
     "name": "stdout",
     "output_type": "stream",
     "text": [
      "VD2D\n",
      "Layer 1,\ttype: conv2d,\tfilter: [3, 3],\tFOV: 3\n",
      "Layer 2,\ttype: conv2d,\tfilter: [3, 3],\tFOV: 5\n",
      "Layer 3,\ttype: conv2d,\tfilter: [2, 2],\tFOV: 6\n",
      "Layer 4,\ttype: pool,\tfilter: [2, 2],\tFOV: 7\n",
      "Layer 5,\ttype: conv2d,\tfilter: [3, 3],\tFOV: 9\n",
      "Layer 6,\ttype: conv2d,\tfilter: [3, 3],\tFOV: 11\n",
      "Layer 7,\ttype: pool,\tfilter: [2, 2],\tFOV: 12\n",
      "Layer 8,\ttype: conv2d,\tfilter: [3, 3],\tFOV: 14\n",
      "Layer 9,\ttype: conv2d,\tfilter: [3, 3],\tFOV: 16\n",
      "Layer 10,\ttype: pool,\tfilter: [2, 2],\tFOV: 17\n",
      "Layer 11,\ttype: conv2d,\tfilter: [3, 3],\tFOV: 19\n",
      "Layer 12,\ttype: conv2d,\tfilter: [3, 3],\tFOV: 21\n",
      "Layer 13,\ttype: pool,\tfilter: [2, 2],\tFOV: 22\n",
      "Layer 14,\ttype: conv2d,\tfilter: [3, 3],\tFOV: 24\n",
      "Layer 15,\ttype: conv2d,\tfilter: [1, 1],\tFOV: 24\n"
     ]
    }
   ],
   "source": [
    "models.VD2D.print_arch()"
   ]
  },
  {
   "cell_type": "code",
   "execution_count": 9,
   "metadata": {
    "collapsed": false
   },
   "outputs": [
    {
     "name": "stdout",
     "output_type": "stream",
     "text": [
      "n4\n",
      "4\n",
      "Layer 1,\ttype: conv2d,\tfilter: [4, 4],\tFOV: 4\n",
      "5\n",
      "Layer 2,\ttype: pool,\tfilter: [2, 2],\tFOV: 5\n",
      "9\n",
      "Layer 3,\ttype: conv2d,\tfilter: [5, 5],\tFOV: 9\n",
      "10\n",
      "Layer 4,\ttype: pool,\tfilter: [2, 2],\tFOV: 10\n",
      "13\n",
      "Layer 5,\ttype: conv2d,\tfilter: [4, 4],\tFOV: 13\n",
      "14\n",
      "Layer 6,\ttype: pool,\tfilter: [2, 2],\tFOV: 14\n",
      "17\n",
      "Layer 7,\ttype: conv2d,\tfilter: [4, 4],\tFOV: 17\n",
      "18\n",
      "Layer 8,\ttype: pool,\tfilter: [2, 2],\tFOV: 18\n",
      "20\n",
      "Layer 9,\ttype: conv2d,\tfilter: [3, 3],\tFOV: 20\n",
      "20\n",
      "Layer 10,\ttype: conv2d,\tfilter: [1, 1],\tFOV: 20\n"
     ]
    }
   ],
   "source": [
    "models.N4.print_arch()"
   ]
  },
  {
   "cell_type": "code",
   "execution_count": 7,
   "metadata": {
    "collapsed": false
   },
   "outputs": [
    {
     "data": {
      "text/plain": [
       "95"
      ]
     },
     "execution_count": 7,
     "metadata": {},
     "output_type": "execute_result"
    }
   ],
   "source": [
    "models.N4.receptive_field"
   ]
  },
  {
   "cell_type": "code",
   "execution_count": 33,
   "metadata": {
    "collapsed": false
   },
   "outputs": [],
   "source": [
    "from models.conv_net import *\n",
    "VD2D = ConvArchitecture(\n",
    "    model_name='VD2D',\n",
    "    output_mode=em.AFFINITIES_2D_MODE,\n",
    "    layers=[\n",
    "        Conv2DLayer(filter_size=3, n_feature_maps=24, activation_fn=tf.nn.relu, is_valid=True),\n",
    "        Conv2DLayer(filter_size=3, n_feature_maps=24, activation_fn=tf.nn.relu, is_valid=True),\n",
    "        Conv2DLayer(filter_size=2, n_feature_maps=24, activation_fn=tf.nn.tanh, is_valid=True),\n",
    "        PoolLayer(filter_size=2),\n",
    "        Conv2DLayer(filter_size=3, n_feature_maps=36, activation_fn=tf.nn.relu, is_valid=True),\n",
    "        Conv2DLayer(filter_size=3, n_feature_maps=36, activation_fn=tf.nn.tanh, is_valid=True),\n",
    "        PoolLayer(filter_size=2),\n",
    "        Conv2DLayer(filter_size=3, n_feature_maps=48, activation_fn=tf.nn.relu, is_valid=True),\n",
    "        Conv2DLayer(filter_size=3, n_feature_maps=48, activation_fn=tf.nn.tanh, is_valid=True),\n",
    "        PoolLayer(filter_size=2),\n",
    "        Conv2DLayer(filter_size=3, n_feature_maps=60, activation_fn=tf.nn.relu, is_valid=True),\n",
    "        Conv2DLayer(filter_size=3, n_feature_maps=60, activation_fn=tf.nn.tanh, is_valid=True),\n",
    "        PoolLayer(filter_size=2),\n",
    "        Conv2DLayer(filter_size=3, n_feature_maps=200, activation_fn=tf.nn.relu, is_valid=True),\n",
    "        Conv2DLayer(filter_size=1, n_feature_maps=2, is_valid=True),\n",
    "    ]\n",
    ")"
   ]
  },
  {
   "cell_type": "code",
   "execution_count": 34,
   "metadata": {
    "collapsed": false
   },
   "outputs": [],
   "source": [
    "N4 = ConvArchitecture(\n",
    "    model_name='n4',\n",
    "    output_mode=em.AFFINITIES_2D_MODE,\n",
    "    layers=[\n",
    "        Conv2DLayer(filter_size=4, n_feature_maps=48, activation_fn=tf.nn.relu, is_valid=True),\n",
    "        PoolLayer(filter_size=2),\n",
    "        Conv2DLayer(filter_size=5, n_feature_maps=48, activation_fn=tf.nn.relu, is_valid=True),\n",
    "        PoolLayer(filter_size=2),\n",
    "        Conv2DLayer(filter_size=4, n_feature_maps=48, activation_fn=tf.nn.relu, is_valid=True),\n",
    "        PoolLayer(filter_size=2),\n",
    "        Conv2DLayer(filter_size=4, n_feature_maps=48, activation_fn=tf.nn.relu, is_valid=True),\n",
    "        PoolLayer(filter_size=2),\n",
    "        Conv2DLayer(filter_size=3, n_feature_maps=200, activation_fn=tf.nn.relu, is_valid=True),\n",
    "        Conv2DLayer(filter_size=1, n_feature_maps=2, is_valid=True),\n",
    "    ]\n",
    ")"
   ]
  },
  {
   "cell_type": "code",
   "execution_count": 37,
   "metadata": {
    "collapsed": false
   },
   "outputs": [
    {
     "name": "stdout",
     "output_type": "stream",
     "text": [
      "n4\n",
      "Layer 1,\ttype: conv2d,\tfilter: [4, 4],\tFOV: 4\n",
      "Layer 2,\ttype: pool,\tfilter: [2, 2],\tFOV: 5\n",
      "Layer 3,\ttype: conv2d,\tfilter: [5, 5],\tFOV: 13\n",
      "Layer 4,\ttype: pool,\tfilter: [2, 2],\tFOV: 15\n",
      "Layer 5,\ttype: conv2d,\tfilter: [4, 4],\tFOV: 27\n",
      "Layer 6,\ttype: pool,\tfilter: [2, 2],\tFOV: 31\n",
      "Layer 7,\ttype: conv2d,\tfilter: [4, 4],\tFOV: 55\n",
      "Layer 8,\ttype: pool,\tfilter: [2, 2],\tFOV: 63\n",
      "Layer 9,\ttype: conv2d,\tfilter: [3, 3],\tFOV: 95\n",
      "Layer 10,\ttype: conv2d,\tfilter: [1, 1],\tFOV: 95\n"
     ]
    }
   ],
   "source": [
    "N4.print_arch()"
   ]
  },
  {
   "cell_type": "code",
   "execution_count": 38,
   "metadata": {
    "collapsed": false
   },
   "outputs": [
    {
     "name": "stdout",
     "output_type": "stream",
     "text": [
      "n4\n",
      "Layer 1,\ttype: conv2d,\tfilter: [4, 4],\tFOV: 4\n",
      "Layer 2,\ttype: pool,\tfilter: [2, 2],\tFOV: 5\n",
      "Layer 3,\ttype: conv2d,\tfilter: [5, 5],\tFOV: 13\n",
      "Layer 4,\ttype: pool,\tfilter: [2, 2],\tFOV: 15\n",
      "Layer 5,\ttype: conv2d,\tfilter: [4, 4],\tFOV: 27\n",
      "Layer 6,\ttype: pool,\tfilter: [2, 2],\tFOV: 31\n",
      "Layer 7,\ttype: conv2d,\tfilter: [4, 4],\tFOV: 55\n",
      "Layer 8,\ttype: pool,\tfilter: [2, 2],\tFOV: 63\n",
      "Layer 9,\ttype: conv2d,\tfilter: [3, 3],\tFOV: 95\n",
      "Layer 10,\ttype: conv2d,\tfilter: [1, 1],\tFOV: 95\n"
     ]
    }
   ],
   "source": [
    "models.N4.print_arch()"
   ]
  },
  {
   "cell_type": "code",
   "execution_count": 39,
   "metadata": {
    "collapsed": false
   },
   "outputs": [
    {
     "name": "stdout",
     "output_type": "stream",
     "text": [
      "n4\n",
      "Layer 1,\ttype: conv2d,\tfilter: [4, 4],\tFOV: 4\n",
      "Layer 2,\ttype: pool,\tfilter: [2, 2],\tFOV: 5\n",
      "Layer 3,\ttype: conv2d,\tfilter: [5, 5],\tFOV: 13\n",
      "Layer 4,\ttype: pool,\tfilter: [2, 2],\tFOV: 15\n",
      "Layer 5,\ttype: conv2d,\tfilter: [4, 4],\tFOV: 27\n",
      "Layer 6,\ttype: pool,\tfilter: [2, 2],\tFOV: 31\n",
      "Layer 7,\ttype: conv2d,\tfilter: [4, 4],\tFOV: 55\n",
      "Layer 8,\ttype: pool,\tfilter: [2, 2],\tFOV: 63\n",
      "Layer 9,\ttype: conv2d,\tfilter: [3, 3],\tFOV: 95\n",
      "Layer 10,\ttype: conv2d,\tfilter: [1, 1],\tFOV: 95\n"
     ]
    }
   ],
   "source": [
    "N4.print_arch()"
   ]
  },
  {
   "cell_type": "code",
   "execution_count": 40,
   "metadata": {
    "collapsed": true
   },
   "outputs": [],
   "source": [
    "b = models.conv_net.VD2D_BOUNDARIES"
   ]
  },
  {
   "cell_type": "code",
   "execution_count": 41,
   "metadata": {
    "collapsed": false
   },
   "outputs": [
    {
     "name": "stdout",
     "output_type": "stream",
     "text": [
      "VD2D_boundaries\n",
      "Layer 1,\ttype: conv2d,\tfilter: [3, 3],\tFOV: 3\n",
      "Layer 2,\ttype: conv2d,\tfilter: [3, 3],\tFOV: 5\n",
      "Layer 3,\ttype: conv2d,\tfilter: [2, 2],\tFOV: 6\n",
      "Layer 4,\ttype: pool,\tfilter: [2, 2],\tFOV: 7\n",
      "Layer 5,\ttype: conv2d,\tfilter: [3, 3],\tFOV: 11\n",
      "Layer 6,\ttype: conv2d,\tfilter: [3, 3],\tFOV: 15\n",
      "Layer 7,\ttype: pool,\tfilter: [2, 2],\tFOV: 17\n",
      "Layer 8,\ttype: conv2d,\tfilter: [3, 3],\tFOV: 25\n",
      "Layer 9,\ttype: conv2d,\tfilter: [3, 3],\tFOV: 33\n",
      "Layer 10,\ttype: pool,\tfilter: [2, 2],\tFOV: 37\n",
      "Layer 11,\ttype: conv2d,\tfilter: [3, 3],\tFOV: 53\n",
      "Layer 12,\ttype: conv2d,\tfilter: [3, 3],\tFOV: 69\n",
      "Layer 13,\ttype: pool,\tfilter: [2, 2],\tFOV: 77\n",
      "Layer 14,\ttype: conv2d,\tfilter: [3, 3],\tFOV: 109\n",
      "Layer 15,\ttype: conv2d,\tfilter: [1, 1],\tFOV: 109\n"
     ]
    }
   ],
   "source": []
  },
  {
   "cell_type": "code",
   "execution_count": 45,
   "metadata": {
    "collapsed": false
   },
   "outputs": [
    {
     "data": {
      "text/plain": [
       "TensorShape([Dimension(None), Dimension(None), Dimension(None), Dimension(1)])"
      ]
     },
     "execution_count": 45,
     "metadata": {},
     "output_type": "execute_result"
    }
   ],
   "source": [
    "bound.prediction.get_shape()"
   ]
  },
  {
   "cell_type": "code",
   "execution_count": 1,
   "metadata": {
    "collapsed": true
   },
   "outputs": [],
   "source": [
    "import cremi.io as cremiio"
   ]
  },
  {
   "cell_type": "code",
   "execution_count": 64,
   "metadata": {
    "collapsed": true
   },
   "outputs": [],
   "source": [
    "atrain = cremiio.CremiFile('cremi/c/validation.hdf', 'r')"
   ]
  },
  {
   "cell_type": "code",
   "execution_count": 65,
   "metadata": {
    "collapsed": true
   },
   "outputs": [],
   "source": [
    "raw = atrain.read_raw()"
   ]
  },
  {
   "cell_type": "code",
   "execution_count": 66,
   "metadata": {
    "collapsed": false
   },
   "outputs": [],
   "source": [
    "true_raw = raw.data.value"
   ]
  },
  {
   "cell_type": "code",
   "execution_count": 67,
   "metadata": {
    "collapsed": false
   },
   "outputs": [
    {
     "data": {
      "text/plain": [
       "(1250, 1250)"
      ]
     },
     "execution_count": 67,
     "metadata": {},
     "output_type": "execute_result"
    }
   ],
   "source": [
    "true_raw[1].shape"
   ]
  },
  {
   "cell_type": "code",
   "execution_count": 68,
   "metadata": {
    "collapsed": false
   },
   "outputs": [
    {
     "data": {
      "text/plain": [
       "(13, 1250, 1250)"
      ]
     },
     "execution_count": 68,
     "metadata": {},
     "output_type": "execute_result"
    }
   ],
   "source": [
    "true_raw.shape"
   ]
  },
  {
   "cell_type": "code",
   "execution_count": 18,
   "metadata": {
    "collapsed": true
   },
   "outputs": [],
   "source": [
    "import PIL.Image\n",
    "from cStringIO import StringIO\n",
    "import IPython.display\n",
    "import numpy as np\n",
    "def showarray(a, fmt='png'):\n",
    "    a = np.uint8(a)\n",
    "    f = StringIO()\n",
    "    PIL.Image.fromarray(a).save(f, fmt)\n",
    "    IPython.display.display(IPython.display.Image(data=f.getvalue()))"
   ]
  },
  {
   "cell_type": "code",
   "execution_count": 46,
   "metadata": {
    "collapsed": false
   },
   "outputs": [
    {
     "data": {
      "text/plain": [
       "array([[0, 0, 0, ..., 0, 0, 0],\n",
       "       [0, 0, 0, ..., 0, 0, 0],\n",
       "       [0, 0, 0, ..., 0, 0, 0],\n",
       "       ..., \n",
       "       [0, 0, 0, ..., 0, 0, 0],\n",
       "       [0, 0, 0, ..., 0, 0, 0],\n",
       "       [0, 0, 0, ..., 0, 0, 0]], dtype=uint8)"
      ]
     },
     "execution_count": 46,
     "metadata": {},
     "output_type": "execute_result"
    }
   ],
   "source": [
    "true_raw[74]"
   ]
  },
  {
   "cell_type": "code",
   "execution_count": 45,
   "metadata": {
    "collapsed": false
   },
   "outputs": [
    {
     "data": {
      "image/png": "[encoded data removed]",
      "text/plain": [
       "<IPython.core.display.Image object>"
      ]
     },
     "metadata": {},
     "output_type": "display_data"
    }
   ],
   "source": [
    "showarray(true_raw[74])"
   ]
  },
  {
   "cell_type": "code",
   "execution_count": 69,
   "metadata": {
    "collapsed": true
   },
   "outputs": [],
   "source": [
    "vals = atrain.read_neuron_ids()"
   ]
  },
  {
   "cell_type": "code",
   "execution_count": 70,
   "metadata": {
    "collapsed": true
   },
   "outputs": [],
   "source": [
    "true_labs = vals.data.value"
   ]
  },
  {
   "cell_type": "code",
   "execution_count": 72,
   "metadata": {
    "collapsed": false
   },
   "outputs": [
    {
     "data": {
      "text/plain": [
       "(13, 1250, 1250)"
      ]
     },
     "execution_count": 72,
     "metadata": {},
     "output_type": "execute_result"
    }
   ],
   "source": [
    "true_labs.shape"
   ]
  },
  {
   "cell_type": "code",
   "execution_count": 75,
   "metadata": {
    "collapsed": false
   },
   "outputs": [
    {
     "data": {
      "image/png": "[encoded data removed]",
      "text/plain": [
       "<IPython.core.display.Image object>"
      ]
     },
     "metadata": {},
     "output_type": "display_data"
    }
   ],
   "source": [
    "showarray(true_labs[10])"
   ]
  },
  {
   "cell_type": "code",
   "execution_count": 26,
   "metadata": {
    "collapsed": false
   },
   "outputs": [
    {
     "ename": "NameError",
     "evalue": "global name 'Confidences' is not defined",
     "output_type": "error",
     "traceback": [
      "\u001b[0;31m---------------------------------------------------------------------------\u001b[0m",
      "\u001b[0;31mNameError\u001b[0m                                 Traceback (most recent call last)",
      "\u001b[0;32m<ipython-input-26-55fc7997a6ae>\u001b[0m in \u001b[0;36m<module>\u001b[0;34m()\u001b[0m\n\u001b[0;32m----> 1\u001b[0;31m \u001b[0mtrue_conf\u001b[0m \u001b[0;34m=\u001b[0m \u001b[0matrain\u001b[0m\u001b[0;34m.\u001b[0m\u001b[0mread_neuron_ids_confidence\u001b[0m\u001b[0;34m(\u001b[0m\u001b[0;34m)\u001b[0m\u001b[0;34m\u001b[0m\u001b[0m\n\u001b[0m",
      "\u001b[0;32m/usr/local/lib/python2.7/dist-packages/cremi/io/CremiFile.pyc\u001b[0m in \u001b[0;36mread_neuron_ids_confidence\u001b[0;34m(self)\u001b[0m\n\u001b[1;32m    160\u001b[0m         \"\"\"\n\u001b[1;32m    161\u001b[0m \u001b[0;34m\u001b[0m\u001b[0m\n\u001b[0;32m--> 162\u001b[0;31m         \u001b[0mconfidences\u001b[0m \u001b[0;34m=\u001b[0m \u001b[0mConfidences\u001b[0m\u001b[0;34m(\u001b[0m\u001b[0mnum_levels\u001b[0m\u001b[0;34m=\u001b[0m\u001b[0;36m2\u001b[0m\u001b[0;34m)\u001b[0m\u001b[0;34m\u001b[0m\u001b[0m\n\u001b[0m\u001b[1;32m    163\u001b[0m         \u001b[0;32mif\u001b[0m \u001b[0;32mnot\u001b[0m \u001b[0mself\u001b[0m\u001b[0;34m.\u001b[0m\u001b[0mhas_neuron_ids_confidence\u001b[0m\u001b[0;34m(\u001b[0m\u001b[0;34m)\u001b[0m\u001b[0;34m:\u001b[0m\u001b[0;34m\u001b[0m\u001b[0m\n\u001b[1;32m    164\u001b[0m             \u001b[0;32mreturn\u001b[0m \u001b[0mconfidences\u001b[0m\u001b[0;34m\u001b[0m\u001b[0m\n",
      "\u001b[0;31mNameError\u001b[0m: global name 'Confidences' is not defined"
     ]
    }
   ],
   "source": []
  },
  {
   "cell_type": "code",
   "execution_count": 28,
   "metadata": {
    "collapsed": false
   },
   "outputs": [],
   "source": [
    "import tifffile as tiff"
   ]
  },
  {
   "cell_type": "code",
   "execution_count": 36,
   "metadata": {
    "collapsed": true
   },
   "outputs": [],
   "source": [
    "fil = tiff.imread('snemi3d/train-labels.tif')"
   ]
  },
  {
   "cell_type": "code",
   "execution_count": 37,
   "metadata": {
    "collapsed": false
   },
   "outputs": [
    {
     "data": {
      "text/plain": [
       "(90, 1024, 1024)"
      ]
     },
     "execution_count": 37,
     "metadata": {},
     "output_type": "execute_result"
    }
   ],
   "source": [
    "fil.shape"
   ]
  },
  {
   "cell_type": "code",
   "execution_count": 40,
   "metadata": {
    "collapsed": false
   },
   "outputs": [
    {
     "data": {
      "image/png": "[encoded data removed]",
      "text/plain": [
       "<IPython.core.display.Image object>"
      ]
     },
     "metadata": {},
     "output_type": "display_data"
    }
   ],
   "source": [
    "showarray(fil[0])"
   ]
  },
  {
   "cell_type": "code",
   "execution_count": 39,
   "metadata": {
    "collapsed": false
   },
   "outputs": [
    {
     "data": {
      "text/plain": [
       "array([[  885,  2064,  2064, ..., 24500, 24500, 24500],\n",
       "       [ 2064,  2064,  2064, ..., 24500, 24500, 24500],\n",
       "       [ 2064,  2064,  2064, ..., 24500, 24500, 24500],\n",
       "       ..., \n",
       "       [ 6036,  6036,  6036, ..., 19935, 19935, 19935],\n",
       "       [ 6036,  6036,  6036, ..., 19935, 19935, 19935],\n",
       "       [ 6036,  6036,  6036, ..., 19935, 19935, 19935]], dtype=uint64)"
      ]
     },
     "execution_count": 39,
     "metadata": {},
     "output_type": "execute_result"
    }
   ],
   "source": [
    "true_labs[0]"
   ]
  },
  {
   "cell_type": "code",
   "execution_count": 56,
   "metadata": {
    "collapsed": false
   },
   "outputs": [],
   "source": [
    "labs = tiff.imread('snemi3d/train-labels.tif')"
   ]
  },
  {
   "cell_type": "code",
   "execution_count": 57,
   "metadata": {
    "collapsed": false
   },
   "outputs": [
    {
     "data": {
      "text/plain": [
       "array([[[333, 333, 333, ..., 381, 381, 381],\n",
       "        [333, 333, 333, ..., 381, 381, 381],\n",
       "        [333, 333, 333, ..., 381, 381, 381],\n",
       "        ..., \n",
       "        [  1,   1,   1, ...,   0,   0,   0],\n",
       "        [  1,   1,   1, ...,   0,   0,   0],\n",
       "        [  1,   1,   1, ...,   0,   0,   0]],\n",
       "\n",
       "       [[333, 333, 333, ..., 381, 381, 381],\n",
       "        [333, 333, 333, ..., 381, 381, 381],\n",
       "        [333, 333, 333, ..., 381, 381, 381],\n",
       "        ..., \n",
       "        [  1,   1,   1, ...,   0,   0,   0],\n",
       "        [  1,   1,   1, ...,   0,   0,   0],\n",
       "        [  1,   1,   1, ...,   0,   0,   0]],\n",
       "\n",
       "       [[333, 333, 333, ..., 381, 381, 381],\n",
       "        [333, 333, 333, ..., 381, 381, 381],\n",
       "        [333, 333, 333, ..., 381, 381, 381],\n",
       "        ..., \n",
       "        [  1,   1,   1, ...,   0,   0,   0],\n",
       "        [  1,   1,   1, ...,   0,   0,   0],\n",
       "        [  1,   1,   1, ...,   0,   0,   0]],\n",
       "\n",
       "       ..., \n",
       "       [[ 24,  24,  24, ...,   0,   0,   0],\n",
       "        [ 24,  24,  24, ...,   0,   0,   0],\n",
       "        [ 24,  24,  24, ...,   0,   0,   0],\n",
       "        ..., \n",
       "        [  1,   1,   1, ...,   0,   0,   0],\n",
       "        [  1,   1,   1, ...,   0,   0,   0],\n",
       "        [  1,   1,   1, ...,   0,   0,   0]],\n",
       "\n",
       "       [[ 24,  24,  24, ...,   0,   0,   0],\n",
       "        [ 24,  24,  24, ...,   0,   0,   0],\n",
       "        [ 24,  24,  24, ...,   0,   0,   0],\n",
       "        ..., \n",
       "        [  1,   1,   1, ...,   0,   0,   0],\n",
       "        [  1,   1,   1, ...,   0,   0,   0],\n",
       "        [  1,   1,   1, ...,   0,   0,   0]],\n",
       "\n",
       "       [[ 24,  24,  24, ...,   0,   0,   0],\n",
       "        [ 24,  24,  24, ...,   0,   0,   0],\n",
       "        [ 24,  24,  24, ...,   0,   0,   0],\n",
       "        ..., \n",
       "        [  1,   1,   1, ...,   0,   0,   0],\n",
       "        [  1,   1,   1, ...,   0,   0,   0],\n",
       "        [  1,   1,   1, ...,   0,   0,   0]]], dtype=uint16)"
      ]
     },
     "execution_count": 57,
     "metadata": {},
     "output_type": "execute_result"
    }
   ],
   "source": [
    "labs"
   ]
  },
  {
   "cell_type": "code",
   "execution_count": 6,
   "metadata": {
    "collapsed": true
   },
   "outputs": [],
   "source": [
    "import em_dataset as em"
   ]
  },
  {
   "cell_type": "code",
   "execution_count": 2,
   "metadata": {
    "collapsed": true
   },
   "outputs": [],
   "source": [
    "cremdset = em.CREMIDataset('cremi/a/')"
   ]
  },
  {
   "cell_type": "code",
   "execution_count": 5,
   "metadata": {
    "collapsed": false
   },
   "outputs": [],
   "source": [
    "cremdset.prepare_predictions_for_submission('cremi/a/test/', 'train', cremdset.train_labels, 'segmentation-3d')"
   ]
  },
  {
   "cell_type": "code",
   "execution_count": 6,
   "metadata": {
    "collapsed": true
   },
   "outputs": [],
   "source": [
    "del(cremdset)"
   ]
  },
  {
   "cell_type": "code",
   "execution_count": 7,
   "metadata": {
    "collapsed": false
   },
   "outputs": [],
   "source": [
    "isbiset = em.ISBIDataset('isbi/')"
   ]
  },
  {
   "cell_type": "code",
   "execution_count": 29,
   "metadata": {
    "collapsed": false
   },
   "outputs": [
    {
     "ename": "IOError",
     "evalue": "[Errno 2] No such file or directory: '/home/trace-local/trace/isbi/test/train-predictions.tif'",
     "output_type": "error",
     "traceback": [
      "\u001b[0;31m---------------------------------------------------------------------------\u001b[0m",
      "\u001b[0;31mIOError\u001b[0m                                   Traceback (most recent call last)",
      "\u001b[0;32m<ipython-input-29-1cb590e17774>\u001b[0m in \u001b[0;36m<module>\u001b[0;34m()\u001b[0m\n\u001b[0;32m----> 1\u001b[0;31m \u001b[0misbiset\u001b[0m\u001b[0;34m.\u001b[0m\u001b[0mprepare_predictions_for_submission\u001b[0m\u001b[0;34m(\u001b[0m\u001b[0;34m'isbi/test/'\u001b[0m\u001b[0;34m,\u001b[0m \u001b[0;34m'train'\u001b[0m\u001b[0;34m,\u001b[0m \u001b[0misbiset\u001b[0m\u001b[0;34m.\u001b[0m\u001b[0mtrain_labels\u001b[0m\u001b[0;34m,\u001b[0m \u001b[0;34m'boundaries'\u001b[0m\u001b[0;34m)\u001b[0m\u001b[0;34m\u001b[0m\u001b[0m\n\u001b[0m",
      "\u001b[0;32m/home/trace-local/trace/em_dataset.py\u001b[0m in \u001b[0;36mprepare_predictions_for_submission\u001b[0;34m(self, results_folder, split, predictions, label_type)\u001b[0m\n\u001b[1;32m    102\u001b[0m         \"\"\"\n\u001b[1;32m    103\u001b[0m         \u001b[0mtrans_predictions\u001b[0m \u001b[0;34m=\u001b[0m \u001b[0mconvert_between_label_types\u001b[0m\u001b[0;34m(\u001b[0m\u001b[0mlabel_type\u001b[0m\u001b[0;34m,\u001b[0m \u001b[0mself\u001b[0m\u001b[0;34m.\u001b[0m\u001b[0mlabel_type\u001b[0m\u001b[0;34m,\u001b[0m \u001b[0mpredictions\u001b[0m\u001b[0;34m)\u001b[0m\u001b[0;34m\u001b[0m\u001b[0m\n\u001b[0;32m--> 104\u001b[0;31m         \u001b[0mtiff\u001b[0m\u001b[0;34m.\u001b[0m\u001b[0mimsave\u001b[0m\u001b[0;34m(\u001b[0m\u001b[0mresults_folder\u001b[0m \u001b[0;34m+\u001b[0m \u001b[0msplit\u001b[0m \u001b[0;34m+\u001b[0m \u001b[0;34m'-predictions.tif'\u001b[0m\u001b[0;34m,\u001b[0m \u001b[0mtrans_predictions\u001b[0m\u001b[0;34m)\u001b[0m\u001b[0;34m\u001b[0m\u001b[0m\n\u001b[0m\u001b[1;32m    105\u001b[0m \u001b[0;34m\u001b[0m\u001b[0m\n\u001b[1;32m    106\u001b[0m \u001b[0;34m\u001b[0m\u001b[0m\n",
      "\u001b[0;32m/usr/local/lib/python2.7/dist-packages/tifffile/tifffile.pyc\u001b[0m in \u001b[0;36mimsave\u001b[0;34m(file, data, **kwargs)\u001b[0m\n\u001b[1;32m    327\u001b[0m         \u001b[0mtifargs\u001b[0m\u001b[0;34m[\u001b[0m\u001b[0;34m'bigtiff'\u001b[0m\u001b[0;34m]\u001b[0m \u001b[0;34m=\u001b[0m \u001b[0mTrue\u001b[0m\u001b[0;34m\u001b[0m\u001b[0m\n\u001b[1;32m    328\u001b[0m \u001b[0;34m\u001b[0m\u001b[0m\n\u001b[0;32m--> 329\u001b[0;31m     \u001b[0;32mwith\u001b[0m \u001b[0mTiffWriter\u001b[0m\u001b[0;34m(\u001b[0m\u001b[0mfile\u001b[0m\u001b[0;34m,\u001b[0m \u001b[0;34m**\u001b[0m\u001b[0mtifargs\u001b[0m\u001b[0;34m)\u001b[0m \u001b[0;32mas\u001b[0m \u001b[0mtif\u001b[0m\u001b[0;34m:\u001b[0m\u001b[0;34m\u001b[0m\u001b[0m\n\u001b[0m\u001b[1;32m    330\u001b[0m         \u001b[0mtif\u001b[0m\u001b[0;34m.\u001b[0m\u001b[0msave\u001b[0m\u001b[0;34m(\u001b[0m\u001b[0mdata\u001b[0m\u001b[0;34m,\u001b[0m \u001b[0;34m**\u001b[0m\u001b[0mkwargs\u001b[0m\u001b[0;34m)\u001b[0m\u001b[0;34m\u001b[0m\u001b[0m\n\u001b[1;32m    331\u001b[0m \u001b[0;34m\u001b[0m\u001b[0m\n",
      "\u001b[0;32m/usr/local/lib/python2.7/dist-packages/tifffile/tifffile.pyc\u001b[0m in \u001b[0;36m__init__\u001b[0;34m(self, file, bigtiff, byteorder, software, imagej)\u001b[0m\n\u001b[1;32m    416\u001b[0m         \u001b[0mself\u001b[0m\u001b[0;34m.\u001b[0m\u001b[0m_tag_offsets\u001b[0m \u001b[0;34m=\u001b[0m \u001b[0mNone\u001b[0m  \u001b[0;31m# strip or tile offset tag code\u001b[0m\u001b[0;34m\u001b[0m\u001b[0m\n\u001b[1;32m    417\u001b[0m \u001b[0;34m\u001b[0m\u001b[0m\n\u001b[0;32m--> 418\u001b[0;31m         \u001b[0mself\u001b[0m\u001b[0;34m.\u001b[0m\u001b[0m_fh\u001b[0m \u001b[0;34m=\u001b[0m \u001b[0mFileHandle\u001b[0m\u001b[0;34m(\u001b[0m\u001b[0mfile\u001b[0m\u001b[0;34m,\u001b[0m \u001b[0mmode\u001b[0m\u001b[0;34m=\u001b[0m\u001b[0;34m'wb'\u001b[0m\u001b[0;34m,\u001b[0m \u001b[0msize\u001b[0m\u001b[0;34m=\u001b[0m\u001b[0;36m0\u001b[0m\u001b[0;34m)\u001b[0m\u001b[0;34m\u001b[0m\u001b[0m\n\u001b[0m\u001b[1;32m    419\u001b[0m         \u001b[0mself\u001b[0m\u001b[0;34m.\u001b[0m\u001b[0m_fh\u001b[0m\u001b[0;34m.\u001b[0m\u001b[0mwrite\u001b[0m\u001b[0;34m(\u001b[0m\u001b[0;34m{\u001b[0m\u001b[0;34m'<'\u001b[0m\u001b[0;34m:\u001b[0m \u001b[0;34mb'II'\u001b[0m\u001b[0;34m,\u001b[0m \u001b[0;34m'>'\u001b[0m\u001b[0;34m:\u001b[0m \u001b[0;34mb'MM'\u001b[0m\u001b[0;34m}\u001b[0m\u001b[0;34m[\u001b[0m\u001b[0mbyteorder\u001b[0m\u001b[0;34m]\u001b[0m\u001b[0;34m)\u001b[0m\u001b[0;34m\u001b[0m\u001b[0m\n\u001b[1;32m    420\u001b[0m \u001b[0;34m\u001b[0m\u001b[0m\n",
      "\u001b[0;32m/usr/local/lib/python2.7/dist-packages/tifffile/tifffile.pyc\u001b[0m in \u001b[0;36m__init__\u001b[0;34m(self, file, mode, name, offset, size)\u001b[0m\n\u001b[1;32m   3360\u001b[0m         \u001b[0mself\u001b[0m\u001b[0;34m.\u001b[0m\u001b[0m_close\u001b[0m \u001b[0;34m=\u001b[0m \u001b[0mTrue\u001b[0m\u001b[0;34m\u001b[0m\u001b[0m\n\u001b[1;32m   3361\u001b[0m         \u001b[0mself\u001b[0m\u001b[0;34m.\u001b[0m\u001b[0mis_file\u001b[0m \u001b[0;34m=\u001b[0m \u001b[0mFalse\u001b[0m\u001b[0;34m\u001b[0m\u001b[0m\n\u001b[0;32m-> 3362\u001b[0;31m         \u001b[0mself\u001b[0m\u001b[0;34m.\u001b[0m\u001b[0mopen\u001b[0m\u001b[0;34m(\u001b[0m\u001b[0;34m)\u001b[0m\u001b[0;34m\u001b[0m\u001b[0m\n\u001b[0m\u001b[1;32m   3363\u001b[0m \u001b[0;34m\u001b[0m\u001b[0m\n\u001b[1;32m   3364\u001b[0m     \u001b[0;32mdef\u001b[0m \u001b[0mopen\u001b[0m\u001b[0;34m(\u001b[0m\u001b[0mself\u001b[0m\u001b[0;34m)\u001b[0m\u001b[0;34m:\u001b[0m\u001b[0;34m\u001b[0m\u001b[0m\n",
      "\u001b[0;32m/usr/local/lib/python2.7/dist-packages/tifffile/tifffile.pyc\u001b[0m in \u001b[0;36mopen\u001b[0;34m(self)\u001b[0m\n\u001b[1;32m   3371\u001b[0m             \u001b[0mself\u001b[0m\u001b[0;34m.\u001b[0m\u001b[0m_file\u001b[0m \u001b[0;34m=\u001b[0m \u001b[0mos\u001b[0m\u001b[0;34m.\u001b[0m\u001b[0mpath\u001b[0m\u001b[0;34m.\u001b[0m\u001b[0mrealpath\u001b[0m\u001b[0;34m(\u001b[0m\u001b[0mself\u001b[0m\u001b[0;34m.\u001b[0m\u001b[0m_file\u001b[0m\u001b[0;34m)\u001b[0m\u001b[0;34m\u001b[0m\u001b[0m\n\u001b[1;32m   3372\u001b[0m             \u001b[0mself\u001b[0m\u001b[0;34m.\u001b[0m\u001b[0m_dir\u001b[0m\u001b[0;34m,\u001b[0m \u001b[0mself\u001b[0m\u001b[0;34m.\u001b[0m\u001b[0m_name\u001b[0m \u001b[0;34m=\u001b[0m \u001b[0mos\u001b[0m\u001b[0;34m.\u001b[0m\u001b[0mpath\u001b[0m\u001b[0;34m.\u001b[0m\u001b[0msplit\u001b[0m\u001b[0;34m(\u001b[0m\u001b[0mself\u001b[0m\u001b[0;34m.\u001b[0m\u001b[0m_file\u001b[0m\u001b[0;34m)\u001b[0m\u001b[0;34m\u001b[0m\u001b[0m\n\u001b[0;32m-> 3373\u001b[0;31m             \u001b[0mself\u001b[0m\u001b[0;34m.\u001b[0m\u001b[0m_fh\u001b[0m \u001b[0;34m=\u001b[0m \u001b[0mopen\u001b[0m\u001b[0;34m(\u001b[0m\u001b[0mself\u001b[0m\u001b[0;34m.\u001b[0m\u001b[0m_file\u001b[0m\u001b[0;34m,\u001b[0m \u001b[0mself\u001b[0m\u001b[0;34m.\u001b[0m\u001b[0m_mode\u001b[0m\u001b[0;34m)\u001b[0m\u001b[0;34m\u001b[0m\u001b[0m\n\u001b[0m\u001b[1;32m   3374\u001b[0m             \u001b[0mself\u001b[0m\u001b[0;34m.\u001b[0m\u001b[0m_close\u001b[0m \u001b[0;34m=\u001b[0m \u001b[0mTrue\u001b[0m\u001b[0;34m\u001b[0m\u001b[0m\n\u001b[1;32m   3375\u001b[0m             \u001b[0;32mif\u001b[0m \u001b[0mself\u001b[0m\u001b[0;34m.\u001b[0m\u001b[0m_offset\u001b[0m \u001b[0;32mis\u001b[0m \u001b[0mNone\u001b[0m\u001b[0;34m:\u001b[0m\u001b[0;34m\u001b[0m\u001b[0m\n",
      "\u001b[0;31mIOError\u001b[0m: [Errno 2] No such file or directory: '/home/trace-local/trace/isbi/test/train-predictions.tif'"
     ]
    }
   ],
   "source": [
    "isbiset.prepare_predictions_for_submission('isbi/test/', 'train', isbiset.train_labels, 'boundaries')"
   ]
  },
  {
   "cell_type": "code",
   "execution_count": 11,
   "metadata": {
    "collapsed": false
   },
   "outputs": [],
   "source": [
    "sampler = em.EMDatasetSampler(isbiset, 200, batch_size=1, label_output_type='boundaries')"
   ]
  },
  {
   "cell_type": "code",
   "execution_count": 12,
   "metadata": {
    "collapsed": false
   },
   "outputs": [
    {
     "data": {
      "text/plain": [
       "<tf.Tensor 'concat_v2:0' shape=(0, 200, 250, 2) dtype=float32>"
      ]
     },
     "execution_count": 12,
     "metadata": {},
     "output_type": "execute_result"
    }
   ],
   "source": [
    "sampler.training_example_op"
   ]
  },
  {
   "cell_type": "code",
   "execution_count": null,
   "metadata": {
    "collapsed": true
   },
   "outputs": [],
   "source": []
  }
 ],
 "metadata": {
  "kernelspec": {
   "display_name": "Python 2",
   "language": "python",
   "name": "python2"
  },
  "language_info": {
   "codemirror_mode": {
    "name": "ipython",
    "version": 2
   },
   "file_extension": ".py",
   "mimetype": "text/x-python",
   "name": "python",
   "nbconvert_exporter": "python",
   "pygments_lexer": "ipython2",
   "version": "2.7.6"
  }
 },
 "nbformat": 4,
 "nbformat_minor": 0
}
