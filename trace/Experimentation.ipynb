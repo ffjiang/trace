{
 "cells": [
  {
   "cell_type": "code",
   "execution_count": 1,
   "metadata": {
    "collapsed": true
   },
   "outputs": [],
   "source": [
    "%load_ext autoreload\n",
    "%autoreload 2\n",
    "\n",
    "import tensorflow as tf\n",
    "import models.conv_net as cnet"
   ]
  },
  {
   "cell_type": "code",
   "execution_count": 2,
   "metadata": {
    "collapsed": false
   },
   "outputs": [
    {
     "name": "stdout",
     "output_type": "stream",
     "text": [
      "Layer 1,\ttype: conv2d,\tfilter: [4, 4],\tFOV: 4\n",
      "Layer 2,\ttype: pool,\tfilter: [2, 2],\tFOV: 5\n",
      "Layer 3,\ttype: conv2d,\tfilter: [5, 5],\tFOV: 13\n",
      "Layer 4,\ttype: pool,\tfilter: [2, 2],\tFOV: 15\n",
      "Layer 5,\ttype: conv2d,\tfilter: [4, 4],\tFOV: 27\n",
      "Layer 6,\ttype: pool,\tfilter: [2, 2],\tFOV: 31\n",
      "Layer 7,\ttype: conv2d,\tfilter: [4, 4],\tFOV: 55\n",
      "Layer 8,\ttype: pool,\tfilter: [2, 2],\tFOV: 63\n",
      "Layer 9,\ttype: conv2d,\tfilter: [3, 3],\tFOV: 95\n",
      "Layer 10,\ttype: conv2d,\tfilter: [1, 1],\tFOV: 95\n"
     ]
    },
    {
     "data": {
      "text/plain": [
       "<models.conv_net.ConvNet instance at 0x7fdf246473b0>"
      ]
     },
     "execution_count": 2,
     "metadata": {},
     "output_type": "execute_result"
    }
   ],
   "source": [
    "cnet.ConvNet(cnet.DEFAULT_PARAMS)"
   ]
  },
  {
   "cell_type": "code",
   "execution_count": 7,
   "metadata": {
    "collapsed": false
   },
   "outputs": [
    {
     "data": {
      "text/plain": [
       "{'fov': 95,\n",
       " 'input': 195,\n",
       " 'layers': [{'activation_fn': <function tensorflow.python.ops.gen_nn_ops.relu>,\n",
       "   'filter_size': 4,\n",
       "   'n_feature_maps': 48,\n",
       "   'type': 'conv2d'},\n",
       "  {'filter_size': 2, 'type': 'pool'},\n",
       "  {'activation_fn': <function tensorflow.python.ops.gen_nn_ops.relu>,\n",
       "   'filter_size': 5,\n",
       "   'n_feature_maps': 68,\n",
       "   'type': 'conv2d'},\n",
       "  {'filter_size': 2, 'type': 'pool'},\n",
       "  {'activation_fn': <function tensorflow.python.ops.gen_nn_ops.relu>,\n",
       "   'filter_size': 4,\n",
       "   'n_feature_maps': 100,\n",
       "   'type': 'conv2d'},\n",
       "  {'filter_size': 2, 'type': 'pool'},\n",
       "  {'activation_fn': <function tensorflow.python.ops.gen_nn_ops.relu>,\n",
       "   'filter_size': 4,\n",
       "   'n_feature_maps': 128,\n",
       "   'type': 'conv2d'},\n",
       "  {'filter_size': 2, 'type': 'pool'},\n",
       "  {'activation_fn': <function tensorflow.python.ops.gen_nn_ops.relu>,\n",
       "   'filter_size': 3,\n",
       "   'n_feature_maps': 200,\n",
       "   'type': 'conv2d'},\n",
       "  {'activation_fn': <function models.conv_net.<lambda>>,\n",
       "   'filter_size': 1,\n",
       "   'n_feature_maps': 2,\n",
       "   'type': 'conv2d'}],\n",
       " 'learning_rate': 0.0001,\n",
       " 'model_name': 'N4_widened',\n",
       " 'output': 101}"
      ]
     },
     "execution_count": 7,
     "metadata": {},
     "output_type": "execute_result"
    }
   ],
   "source": [
    "cnet.DEFAULT_PARAMS"
   ]
  },
  {
   "cell_type": "code",
   "execution_count": 20,
   "metadata": {
    "collapsed": true
   },
   "outputs": [],
   "source": [
    "DEEPER_PARAMS = {\n",
    "    'model_name': 'N4_widened',\n",
    "    'fov': 107,  # Sanity check\n",
    "    'input': 195,\n",
    "    'output': 101,\n",
    "    'learning_rate': 0.0001,\n",
    "    'layers': [\n",
    "        {'type': 'conv2d', 'filter_size': 4, 'n_feature_maps': 48, 'activation_fn': tf.nn.relu},\n",
    "        {'type': 'pool', 'filter_size': 2},\n",
    "        {'type': 'conv2d', 'filter_size': 5, 'n_feature_maps': 68, 'activation_fn': tf.nn.relu},\n",
    "        {'type': 'pool', 'filter_size': 2},\n",
    "        {'type': 'conv2d', 'filter_size': 4, 'n_feature_maps': 100, 'activation_fn': tf.nn.relu},\n",
    "        {'type': 'conv2d', 'filter_size': 4, 'n_feature_maps': 200, 'activation_fn': tf.nn.relu},\n",
    "        {'type': 'pool', 'filter_size': 2},\n",
    "        {'type': 'conv2d', 'filter_size': 4, 'n_feature_maps': 96, 'activation_fn': tf.nn.relu},\n",
    "        {'type': 'pool', 'filter_size': 2},\n",
    "        {'type': 'conv2d', 'filter_size': 3, 'n_feature_maps': 200, 'activation_fn': tf.nn.relu},\n",
    "        {'type': 'conv2d', 'filter_size': 1, 'n_feature_maps': 2, 'activation_fn': lambda x: x},\n",
    "    ]\n",
    "}"
   ]
  },
  {
   "cell_type": "code",
   "execution_count": 23,
   "metadata": {
    "collapsed": true
   },
   "outputs": [],
   "source": [
    "VD2D = {\n",
    "    'model_name': 'VD2D',\n",
    "    'fov': 109,  # Sanity check\n",
    "    'input': 209,\n",
    "    'output': 101,\n",
    "    'learning_rate': 0.001,\n",
    "    'layers': [\n",
    "        {'type': 'conv2d', 'filter_size': 3, 'n_feature_maps': 24, 'activation_fn': tf.nn.relu},\n",
    "        {'type': 'conv2d', 'filter_size': 3, 'n_feature_maps': 24, 'activation_fn': tf.nn.relu},\n",
    "        {'type': 'conv2d', 'filter_size': 2, 'n_feature_maps': 24, 'activation_fn': tf.nn.tanh},\n",
    "        {'type': 'pool', 'filter_size': 2},\n",
    "        {'type': 'conv2d', 'filter_size': 3, 'n_feature_maps': 36, 'activation_fn': tf.nn.relu},\n",
    "        {'type': 'conv2d', 'filter_size': 3, 'n_feature_maps': 36, 'activation_fn': tf.nn.tanh},\n",
    "        {'type': 'pool', 'filter_size': 2},\n",
    "        {'type': 'conv2d', 'filter_size': 3, 'n_feature_maps': 48, 'activation_fn': tf.nn.relu},\n",
    "        {'type': 'conv2d', 'filter_size': 3, 'n_feature_maps': 48, 'activation_fn': tf.nn.tanh},\n",
    "        {'type': 'pool', 'filter_size': 2},\n",
    "        {'type': 'conv2d', 'filter_size': 3, 'n_feature_maps': 60, 'activation_fn': tf.nn.relu},\n",
    "        {'type': 'conv2d', 'filter_size': 3, 'n_feature_maps': 60, 'activation_fn': tf.nn.tanh},\n",
    "        {'type': 'pool', 'filter_size': 2},\n",
    "        {'type': 'conv2d', 'filter_size': 3, 'n_feature_maps': 200, 'activation_fn': tf.nn.relu},\n",
    "        {'type': 'conv2d', 'filter_size': 1, 'n_feature_maps': 2, 'activation_fn': lambda x: x},\n",
    "    ]\n",
    "    \n",
    "}"
   ]
  },
  {
   "cell_type": "code",
   "execution_count": 24,
   "metadata": {
    "collapsed": false,
    "scrolled": false
   },
   "outputs": [
    {
     "name": "stdout",
     "output_type": "stream",
     "text": [
      "Layer 1,\ttype: conv2d,\tfilter: [3, 3],\tFOV: 3\n",
      "Layer 2,\ttype: conv2d,\tfilter: [3, 3],\tFOV: 5\n",
      "Layer 3,\ttype: conv2d,\tfilter: [2, 2],\tFOV: 6\n",
      "Layer 4,\ttype: pool,\tfilter: [2, 2],\tFOV: 7\n",
      "Layer 5,\ttype: conv2d,\tfilter: [3, 3],\tFOV: 11\n",
      "Layer 6,\ttype: conv2d,\tfilter: [3, 3],\tFOV: 15\n",
      "Layer 7,\ttype: pool,\tfilter: [2, 2],\tFOV: 17\n",
      "Layer 8,\ttype: conv2d,\tfilter: [3, 3],\tFOV: 25\n",
      "Layer 9,\ttype: conv2d,\tfilter: [3, 3],\tFOV: 33\n",
      "Layer 10,\ttype: pool,\tfilter: [2, 2],\tFOV: 37\n",
      "Layer 11,\ttype: conv2d,\tfilter: [3, 3],\tFOV: 53\n",
      "Layer 12,\ttype: conv2d,\tfilter: [3, 3],\tFOV: 69\n",
      "Layer 13,\ttype: pool,\tfilter: [2, 2],\tFOV: 77\n",
      "Layer 14,\ttype: conv2d,\tfilter: [3, 3],\tFOV: 109\n",
      "Layer 15,\ttype: conv2d,\tfilter: [1, 1],\tFOV: 109\n"
     ]
    },
    {
     "ename": "AssertionError",
     "evalue": "",
     "output_type": "error",
     "traceback": [
      "\u001b[0;31m---------------------------------------------------------------------------\u001b[0m",
      "\u001b[0;31mAssertionError\u001b[0m                            Traceback (most recent call last)",
      "\u001b[0;32m<ipython-input-24-73330e7c64b0>\u001b[0m in \u001b[0;36m<module>\u001b[0;34m()\u001b[0m\n\u001b[0;32m----> 1\u001b[0;31m \u001b[0mcnet\u001b[0m\u001b[0;34m.\u001b[0m\u001b[0mConvNet\u001b[0m\u001b[0;34m(\u001b[0m\u001b[0mVD2D\u001b[0m\u001b[0;34m)\u001b[0m\u001b[0;34m\u001b[0m\u001b[0m\n\u001b[0m",
      "\u001b[0;32m/home/trace-local/trace/models/conv_net.pyc\u001b[0m in \u001b[0;36m__init__\u001b[0;34m(self, params)\u001b[0m\n\u001b[1;32m    110\u001b[0m                   (layer_num, layer['type'], filter_size, filter_size, receptive_field))\n\u001b[1;32m    111\u001b[0m \u001b[0;34m\u001b[0m\u001b[0m\n\u001b[0;32m--> 112\u001b[0;31m         \u001b[0;32massert\u001b[0m \u001b[0;34m(\u001b[0m\u001b[0mreceptive_field\u001b[0m \u001b[0;34m==\u001b[0m \u001b[0mparams\u001b[0m\u001b[0;34m[\u001b[0m\u001b[0;34m'fov'\u001b[0m\u001b[0;34m]\u001b[0m\u001b[0;34m)\u001b[0m\u001b[0;34m\u001b[0m\u001b[0m\n\u001b[0m\u001b[1;32m    113\u001b[0m \u001b[0;34m\u001b[0m\u001b[0m\n\u001b[1;32m    114\u001b[0m         \u001b[0mself\u001b[0m\u001b[0;34m.\u001b[0m\u001b[0mfov\u001b[0m \u001b[0;34m=\u001b[0m \u001b[0mreceptive_field\u001b[0m\u001b[0;34m\u001b[0m\u001b[0m\n",
      "\u001b[0;31mAssertionError\u001b[0m: "
     ]
    }
   ],
   "source": [
    "cnet.ConvNet(VD2D)"
   ]
  },
  {
   "cell_type": "code",
   "execution_count": null,
   "metadata": {
    "collapsed": true
   },
   "outputs": [],
   "source": []
  }
 ],
 "metadata": {
  "kernelspec": {
   "display_name": "Python 2",
   "language": "python",
   "name": "python2"
  },
  "language_info": {
   "codemirror_mode": {
    "name": "ipython",
    "version": 2
   },
   "file_extension": ".py",
   "mimetype": "text/x-python",
   "name": "python",
   "nbconvert_exporter": "python",
   "pygments_lexer": "ipython2",
   "version": "2.7.6"
  }
 },
 "nbformat": 4,
 "nbformat_minor": 2
}
