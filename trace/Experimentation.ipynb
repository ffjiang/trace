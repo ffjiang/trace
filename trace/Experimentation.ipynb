{
 "cells": [
  {
   "cell_type": "code",
   "execution_count": 3,
   "metadata": {
    "collapsed": true
   },
   "outputs": [],
   "source": [
    "%load_ext autoreload\n",
    "%autoreload 2\n",
    "\n",
    "import tensorflow as tf\n",
    "import models.conv_net as cnet"
   ]
  },
  {
   "cell_type": "code",
   "execution_count": 5,
   "metadata": {
    "collapsed": false
   },
   "outputs": [
    {
     "name": "stdout",
     "output_type": "stream",
     "text": [
      "Layer 1,\ttype: conv2d,\tfilter: [4, 4],\tFOV: 4\n",
      "Layer 2,\ttype: pool,\tfilter: [2, 2],\tFOV: 5\n",
      "WARNING:tensorflow:From /usr/local/lib/python2.7/dist-packages/tensorflow/python/ops/nn_ops.py:411 in adjust.: concat (from tensorflow.python.ops.array_ops) is deprecated and will be removed after 2016-12-13.\n",
      "Instructions for updating:\n",
      "This op will be removed after the deprecation date. Please switch to tf.concat_v2().\n",
      "WARNING:tensorflow:From /usr/local/lib/python2.7/dist-packages/tensorflow/python/ops/nn_ops.py:411 in adjust.: concat (from tensorflow.python.ops.array_ops) is deprecated and will be removed after 2016-12-13.\n",
      "Instructions for updating:\n",
      "This op will be removed after the deprecation date. Please switch to tf.concat_v2().\n",
      "Layer 3,\ttype: conv2d,\tfilter: [5, 5],\tFOV: 13\n",
      "WARNING:tensorflow:From /usr/local/lib/python2.7/dist-packages/tensorflow/python/ops/nn_ops.py:411 in adjust.: concat (from tensorflow.python.ops.array_ops) is deprecated and will be removed after 2016-12-13.\n",
      "Instructions for updating:\n",
      "This op will be removed after the deprecation date. Please switch to tf.concat_v2().\n",
      "WARNING:tensorflow:From /usr/local/lib/python2.7/dist-packages/tensorflow/python/ops/nn_ops.py:411 in adjust.: concat (from tensorflow.python.ops.array_ops) is deprecated and will be removed after 2016-12-13.\n",
      "Instructions for updating:\n",
      "This op will be removed after the deprecation date. Please switch to tf.concat_v2().\n",
      "Layer 4,\ttype: pool,\tfilter: [2, 2],\tFOV: 15\n",
      "WARNING:tensorflow:From /usr/local/lib/python2.7/dist-packages/tensorflow/python/ops/nn_ops.py:411 in adjust.: concat (from tensorflow.python.ops.array_ops) is deprecated and will be removed after 2016-12-13.\n",
      "Instructions for updating:\n",
      "This op will be removed after the deprecation date. Please switch to tf.concat_v2().\n",
      "WARNING:tensorflow:From /usr/local/lib/python2.7/dist-packages/tensorflow/python/ops/nn_ops.py:411 in adjust.: concat (from tensorflow.python.ops.array_ops) is deprecated and will be removed after 2016-12-13.\n",
      "Instructions for updating:\n",
      "This op will be removed after the deprecation date. Please switch to tf.concat_v2().\n",
      "Layer 5,\ttype: conv2d,\tfilter: [4, 4],\tFOV: 27\n",
      "WARNING:tensorflow:From /usr/local/lib/python2.7/dist-packages/tensorflow/python/ops/nn_ops.py:411 in adjust.: concat (from tensorflow.python.ops.array_ops) is deprecated and will be removed after 2016-12-13.\n",
      "Instructions for updating:\n",
      "This op will be removed after the deprecation date. Please switch to tf.concat_v2().\n",
      "WARNING:tensorflow:From /usr/local/lib/python2.7/dist-packages/tensorflow/python/ops/nn_ops.py:411 in adjust.: concat (from tensorflow.python.ops.array_ops) is deprecated and will be removed after 2016-12-13.\n",
      "Instructions for updating:\n",
      "This op will be removed after the deprecation date. Please switch to tf.concat_v2().\n",
      "Layer 6,\ttype: pool,\tfilter: [2, 2],\tFOV: 31\n",
      "WARNING:tensorflow:From /usr/local/lib/python2.7/dist-packages/tensorflow/python/ops/nn_ops.py:411 in adjust.: concat (from tensorflow.python.ops.array_ops) is deprecated and will be removed after 2016-12-13.\n",
      "Instructions for updating:\n",
      "This op will be removed after the deprecation date. Please switch to tf.concat_v2().\n",
      "WARNING:tensorflow:From /usr/local/lib/python2.7/dist-packages/tensorflow/python/ops/nn_ops.py:411 in adjust.: concat (from tensorflow.python.ops.array_ops) is deprecated and will be removed after 2016-12-13.\n",
      "Instructions for updating:\n",
      "This op will be removed after the deprecation date. Please switch to tf.concat_v2().\n",
      "Layer 7,\ttype: conv2d,\tfilter: [4, 4],\tFOV: 55\n",
      "WARNING:tensorflow:From /usr/local/lib/python2.7/dist-packages/tensorflow/python/ops/nn_ops.py:411 in adjust.: concat (from tensorflow.python.ops.array_ops) is deprecated and will be removed after 2016-12-13.\n",
      "Instructions for updating:\n",
      "This op will be removed after the deprecation date. Please switch to tf.concat_v2().\n",
      "WARNING:tensorflow:From /usr/local/lib/python2.7/dist-packages/tensorflow/python/ops/nn_ops.py:411 in adjust.: concat (from tensorflow.python.ops.array_ops) is deprecated and will be removed after 2016-12-13.\n",
      "Instructions for updating:\n",
      "This op will be removed after the deprecation date. Please switch to tf.concat_v2().\n",
      "Layer 8,\ttype: pool,\tfilter: [2, 2],\tFOV: 63\n",
      "WARNING:tensorflow:From /usr/local/lib/python2.7/dist-packages/tensorflow/python/ops/nn_ops.py:411 in adjust.: concat (from tensorflow.python.ops.array_ops) is deprecated and will be removed after 2016-12-13.\n",
      "Instructions for updating:\n",
      "This op will be removed after the deprecation date. Please switch to tf.concat_v2().\n",
      "WARNING:tensorflow:From /usr/local/lib/python2.7/dist-packages/tensorflow/python/ops/nn_ops.py:411 in adjust.: concat (from tensorflow.python.ops.array_ops) is deprecated and will be removed after 2016-12-13.\n",
      "Instructions for updating:\n",
      "This op will be removed after the deprecation date. Please switch to tf.concat_v2().\n",
      "Layer 9,\ttype: conv2d,\tfilter: [3, 3],\tFOV: 95\n",
      "WARNING:tensorflow:From /usr/local/lib/python2.7/dist-packages/tensorflow/python/ops/nn_ops.py:411 in adjust.: concat (from tensorflow.python.ops.array_ops) is deprecated and will be removed after 2016-12-13.\n",
      "Instructions for updating:\n",
      "This op will be removed after the deprecation date. Please switch to tf.concat_v2().\n",
      "WARNING:tensorflow:From /usr/local/lib/python2.7/dist-packages/tensorflow/python/ops/nn_ops.py:411 in adjust.: concat (from tensorflow.python.ops.array_ops) is deprecated and will be removed after 2016-12-13.\n",
      "Instructions for updating:\n",
      "This op will be removed after the deprecation date. Please switch to tf.concat_v2().\n",
      "Layer 10,\ttype: conv2d,\tfilter: [1, 1],\tFOV: 95\n",
      "INFO:tensorflow:Summary name Rand Split Score is illegal; using Rand_Split_Score instead.\n",
      "INFO:tensorflow:Summary name Vi Score is illegal; using Vi_Score instead.\n",
      "INFO:tensorflow:Summary name Vi Merge Score is illegal; using Vi_Merge_Score instead.\n",
      "INFO:tensorflow:Summary name Vi Split Score is illegal; using Vi_Split_Score instead.\n"
     ]
    },
    {
     "data": {
      "text/plain": [
       "<models.conv_net.ConvNet instance at 0x7f6c5e52de60>"
      ]
     },
     "execution_count": 5,
     "metadata": {},
     "output_type": "execute_result"
    }
   ],
   "source": [
    "cnet.ConvNet(cnet.DEFAULT_PARAMS)"
   ]
  },
  {
   "cell_type": "code",
   "execution_count": 68,
   "metadata": {
    "collapsed": false
   },
   "outputs": [
    {
     "data": {
      "text/plain": [
       "50"
      ]
     },
     "execution_count": 68,
     "metadata": {},
     "output_type": "execute_result"
    }
   ],
   "source": []
  },
  {
   "cell_type": "code",
   "execution_count": null,
   "metadata": {
    "collapsed": true
   },
   "outputs": [],
   "source": []
  }
 ],
 "metadata": {
  "kernelspec": {
   "display_name": "Python 2",
   "language": "python",
   "name": "python2"
  },
  "language_info": {
   "codemirror_mode": {
    "name": "ipython",
    "version": 2
   },
   "file_extension": ".py",
   "mimetype": "text/x-python",
   "name": "python",
   "nbconvert_exporter": "python",
   "pygments_lexer": "ipython2",
   "version": "2.7.6"
  }
 },
 "nbformat": 4,
 "nbformat_minor": 2
}
