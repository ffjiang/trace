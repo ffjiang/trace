{
 "cells": [
  {
   "cell_type": "code",
   "execution_count": 1,
   "metadata": {
    "collapsed": true
   },
   "outputs": [],
   "source": [
    "%load_ext autoreload\n",
    "%autoreload 2"
   ]
  },
  {
   "cell_type": "code",
   "execution_count": 19,
   "metadata": {
    "collapsed": true
   },
   "outputs": [],
   "source": [
    "\n",
    "import em_dataset\n",
    "import dataprovider.transform as trans\n",
    "import h5py\n",
    "import numpy as np"
   ]
  },
  {
   "cell_type": "code",
   "execution_count": 53,
   "metadata": {
    "collapsed": false
   },
   "outputs": [],
   "source": [
    "dset = em_dataset.EMDataset('isbi/', output_mode=em_dataset.AFFINITIES_2D_MODE)"
   ]
  },
  {
   "cell_type": "code",
   "execution_count": 26,
   "metadata": {
    "collapsed": false
   },
   "outputs": [
    {
     "name": "stdout",
     "output_type": "stream",
     "text": [
      "(3, 512, 512, 2)\n"
     ]
    }
   ],
   "source": [
    "val_in, val_lab = dset.get_validation_set()\n",
    "print(val_lab.shape)"
   ]
  },
  {
   "cell_type": "code",
   "execution_count": 67,
   "metadata": {
    "collapsed": false
   },
   "outputs": [
    {
     "name": "stdout",
     "output_type": "stream",
     "text": [
      "         347 function calls in 0.331 seconds\n",
      "\n",
      "   Ordered by: standard name\n",
      "\n",
      "   ncalls  tottime  percall  cumtime  percall filename:lineno(function)\n",
      "        1    0.000    0.000    0.331    0.331 <string>:1(<module>)\n",
      "        4    0.000    0.000    0.000    0.000 _weakrefset.py:70(__contains__)\n",
      "        2    0.000    0.000    0.000    0.000 abc.py:128(__instancecheck__)\n",
      "        1    0.000    0.000    0.000    0.000 augmentation.py:15(elastic_transform)\n",
      "        4    0.000    0.000    0.000    0.000 compat.py:46(as_bytes)\n",
      "        4    0.000    0.000    0.000    0.000 contextlib.py:12(__init__)\n",
      "        4    0.000    0.000    0.000    0.000 contextlib.py:15(__enter__)\n",
      "        4    0.000    0.000    0.000    0.000 contextlib.py:21(__exit__)\n",
      "        4    0.000    0.000    0.000    0.000 contextlib.py:82(helper)\n",
      "        2    0.000    0.000    0.000    0.000 dtypes.py:134(as_numpy_dtype)\n",
      "        1    0.000    0.000    0.331    0.331 em_dataset.py:112(random_sample)\n",
      "        4    0.000    0.000    0.000    0.000 errors_impl.py:460(raise_exception_on_not_ok_status)\n",
      "        2    0.000    0.000    0.000    0.000 nest.py:140(flatten_dict_items)\n",
      "        2    0.000    0.000    0.000    0.000 nest.py:70(is_sequence)\n",
      "        2    0.000    0.000    0.000    0.000 numeric.py:414(asarray)\n",
      "       10    0.000    0.000    0.000    0.000 ops.py:1178(name)\n",
      "        4    0.000    0.000    0.000    0.000 ops.py:127(_as_graph_element)\n",
      "        2    0.000    0.000    0.000    0.000 ops.py:1364(type)\n",
      "        4    0.000    0.000    0.000    0.000 ops.py:1369(graph)\n",
      "        4    0.000    0.000    0.000    0.000 ops.py:1953(version)\n",
      "        4    0.000    0.000    0.000    0.000 ops.py:2285(as_graph_element)\n",
      "        4    0.000    0.000    0.000    0.000 ops.py:2320(_as_graph_element_locked)\n",
      "        2    0.000    0.000    0.000    0.000 ops.py:2480(as_default)\n",
      "        6    0.000    0.000    0.000    0.000 ops.py:310(op)\n",
      "        2    0.000    0.000    0.000    0.000 ops.py:315(dtype)\n",
      "        4    0.000    0.000    0.000    0.000 ops.py:320(graph)\n",
      "        4    0.000    0.000    0.000    0.000 ops.py:325(name)\n",
      "        2    0.000    0.000    0.000    0.000 ops.py:3420(is_feedable)\n",
      "        2    0.000    0.000    0.000    0.000 ops.py:3428(is_fetchable)\n",
      "        2    0.000    0.000    0.000    0.000 ops.py:343(get_shape)\n",
      "        2    0.000    0.000    0.000    0.000 ops.py:3498(get_default)\n",
      "        4    0.000    0.000    0.000    0.000 ops.py:3512(get_controller)\n",
      "        2    0.000    0.000    0.000    0.000 ops.py:3678(get_default)\n",
      "        2    0.000    0.000    0.000    0.000 ops.py:3713(get_default_graph)\n",
      "        8    0.000    0.000    0.000    0.000 ops.py:478(__hash__)\n",
      "       12    0.000    0.000    0.000    0.000 python_message.py:661(getter)\n",
      "        2    0.000    0.000    0.000    0.000 pywrap_tensorflow.py:339(<lambda>)\n",
      "        2    0.000    0.000    0.330    0.165 session.py:1019(_do_call)\n",
      "        2    0.000    0.000    0.000    0.000 session.py:1036(_extend_graph)\n",
      "        2    0.000    0.000    0.000    0.000 session.py:1076(_update_with_movers)\n",
      "        2    0.000    0.000    0.000    0.000 session.py:120(<lambda>)\n",
      "        2    0.000    0.000    0.000    0.000 session.py:121(<lambda>)\n",
      "        2    0.000    0.000    0.000    0.000 session.py:211(for_fetch)\n",
      "        2    0.000    0.000    0.000    0.000 session.py:247(__init__)\n",
      "        2    0.000    0.000    0.000    0.000 session.py:280(unique_fetches)\n",
      "        2    0.000    0.000    0.000    0.000 session.py:283(build_results)\n",
      "        2    0.000    0.000    0.000    0.000 session.py:396(__init__)\n",
      "        2    0.000    0.000    0.000    0.000 session.py:428(_assert_fetchable)\n",
      "        2    0.000    0.000    0.000    0.000 session.py:433(fetches)\n",
      "        2    0.000    0.000    0.000    0.000 session.py:441(targets)\n",
      "        2    0.000    0.000    0.000    0.000 session.py:449(build_results)\n",
      "        8    0.000    0.000    0.000    0.000 session.py:584(graph)\n",
      "        2    0.000    0.000    0.331    0.165 session.py:655(run)\n",
      "        2    0.000    0.000    0.331    0.165 session.py:891(_run)\n",
      "        2    0.000    0.000    0.000    0.000 session.py:893(_feed_fn)\n",
      "        2    0.000    0.000    0.330    0.165 session.py:972(_do_run)\n",
      "        2    0.000    0.000    0.330    0.165 session.py:996(_run_fn)\n",
      "        2    0.000    0.000    0.000    0.000 session_ops.py:229(_get_handle_feeder)\n",
      "        2    0.000    0.000    0.000    0.000 session_ops.py:249(_get_handle_mover)\n",
      "        2    0.000    0.000    0.000    0.000 six.py:598(iteritems)\n",
      "        3    0.000    0.000    0.000    0.000 tensor_shape.py:28(__init__)\n",
      "        6    0.000    0.000    0.000    0.000 tensor_shape.py:362(as_dimension)\n",
      "        2    0.000    0.000    0.000    0.000 tensor_shape.py:423(__init__)\n",
      "        2    0.000    0.000    0.000    0.000 tensor_shape.py:470(dims)\n",
      "        2    0.000    0.000    0.000    0.000 tensor_shape.py:475(ndims)\n",
      "        2    0.000    0.000    0.000    0.000 tensor_shape.py:696(is_compatible_with)\n",
      "        2    0.000    0.000    0.000    0.000 tensor_shape.py:74(value)\n",
      "        3    0.000    0.000    0.000    0.000 tensor_shape.py:79(is_compatible_with)\n",
      "        2    0.000    0.000    0.000    0.000 tensor_shape.py:816(as_shape)\n",
      "        2    0.000    0.000    0.000    0.000 {_pywrap_tensorflow.TF_DeleteBuffer}\n",
      "        2    0.000    0.000    0.000    0.000 {_pywrap_tensorflow.TF_DeleteStatus}\n",
      "        2    0.000    0.000    0.000    0.000 {_pywrap_tensorflow.TF_GetCode}\n",
      "        2    0.000    0.000    0.000    0.000 {_pywrap_tensorflow.TF_NewBuffer}\n",
      "        2    0.000    0.000    0.000    0.000 {_pywrap_tensorflow.TF_NewStatus}\n",
      "        2    0.330    0.165    0.330    0.165 {_pywrap_tensorflow.TF_Run}\n",
      "        6    0.000    0.000    0.000    0.000 {getattr}\n",
      "        8    0.000    0.000    0.000    0.000 {id}\n",
      "       59    0.000    0.000    0.000    0.000 {isinstance}\n",
      "        2    0.000    0.000    0.000    0.000 {iter}\n",
      "       10    0.000    0.000    0.000    0.000 {len}\n",
      "       10    0.000    0.000    0.000    0.000 {method 'append' of 'list' objects}\n",
      "        1    0.000    0.000    0.000    0.000 {method 'disable' of '_lsprof.Profiler' objects}\n",
      "        4    0.000    0.000    0.000    0.000 {method 'encode' of 'unicode' objects}\n",
      "       18    0.000    0.000    0.000    0.000 {method 'get' of 'dict' objects}\n",
      "        4    0.000    0.000    0.000    0.000 {method 'items' of 'dict' objects}\n",
      "        2    0.000    0.000    0.000    0.000 {method 'iteritems' of 'dict' objects}\n",
      "        2    0.000    0.000    0.000    0.000 {method 'pop' of 'list' objects}\n",
      "        1    0.000    0.000    0.000    0.000 {method 'randint' of 'mtrand.RandomState' objects}\n",
      "        2    0.000    0.000    0.000    0.000 {numpy.core.multiarray.array}\n",
      "        1    0.000    0.000    0.000    0.000 {zip}\n",
      "\n",
      "\n"
     ]
    }
   ],
   "source": [
    "import cProfile\n",
    "cProfile.run('dset.random_sample(350)')"
   ]
  },
  {
   "cell_type": "code",
   "execution_count": 66,
   "metadata": {
    "collapsed": false
   },
   "outputs": [],
   "source": [
    "im, lab = dset.random_sample(350)\n"
   ]
  },
  {
   "cell_type": "code",
   "execution_count": null,
   "metadata": {
    "collapsed": true
   },
   "outputs": [],
   "source": []
  },
  {
   "cell_type": "code",
   "execution_count": 64,
   "metadata": {
    "collapsed": false
   },
   "outputs": [
    {
     "data": {
      "text/plain": [
       "(350, 350, 2)"
      ]
     },
     "execution_count": 64,
     "metadata": {},
     "output_type": "execute_result"
    }
   ],
   "source": [
    "lab.shape"
   ]
  },
  {
   "cell_type": "code",
   "execution_count": 14,
   "metadata": {
    "collapsed": true
   },
   "outputs": [],
   "source": [
    "with h5py.File('isbi/train-input.h5', 'r') as file:\n",
    "    data = file['main'][:]\n",
    "    aff = trans.affinitize(data)\n"
   ]
  },
  {
   "cell_type": "code",
   "execution_count": 23,
   "metadata": {
    "collapsed": false
   },
   "outputs": [],
   "source": [
    "aff_fit = np.einsum('abcd->bcda', aff)"
   ]
  },
  {
   "cell_type": "code",
   "execution_count": 25,
   "metadata": {
    "collapsed": false
   },
   "outputs": [
    {
     "data": {
      "text/plain": [
       "(27, 512, 512, 2)"
      ]
     },
     "execution_count": 25,
     "metadata": {},
     "output_type": "execute_result"
    }
   ],
   "source": [
    "aff_fit[:,:,:,0:2].shape"
   ]
  },
  {
   "cell_type": "code",
   "execution_count": null,
   "metadata": {
    "collapsed": true
   },
   "outputs": [],
   "source": []
  }
 ],
 "metadata": {
  "kernelspec": {
   "display_name": "Python 2",
   "language": "python",
   "name": "python2"
  },
  "language_info": {
   "codemirror_mode": {
    "name": "ipython",
    "version": 2
   },
   "file_extension": ".py",
   "mimetype": "text/x-python",
   "name": "python",
   "nbconvert_exporter": "python",
   "pygments_lexer": "ipython2",
   "version": "2.7.13"
  }
 },
 "nbformat": 4,
 "nbformat_minor": 0
}
